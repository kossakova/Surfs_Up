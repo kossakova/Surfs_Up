{
 "cells": [
  {
   "cell_type": "markdown",
   "metadata": {},
   "source": [
    "Intro to python\n",
    "\n",
    "There’s a slight variation between Python (aka Python2) vs Python3\n",
    "\n",
    "—> in the modules you’ll need to create a virtual environment, but dont worry about that right now\n",
    "\n",
    "—> if you need to get files from GitHub, forget about using git / git bash for now, just download the files directly\n",
    "\n",
    "    —> download as a zip file and you’ll need to extract the files / move the files outside the zip file\n",
    "\n",
    "--> the location of your notebook file needs to be in the same folder as where your data is\n"
   ]
  },
  {
   "cell_type": "code",
   "execution_count": 1,
   "metadata": {},
   "outputs": [
    {
     "name": "stdout",
     "output_type": "stream",
     "text": [
      "1\n",
      "5.3\n",
      "hello world\n",
      "hello world!\n",
      "$213 name !   +\n"
     ]
    }
   ],
   "source": [
    "# Data Types\n",
    "\n",
    "# Integer --> whole numbers\n",
    "a = 1\n",
    "b =2\n",
    "c= 3 \n",
    "\n",
    "print(a)\n",
    "\n",
    "\n",
    "# Float --> Decimal Numbers\n",
    "d = 1.0 \n",
    "e = 1.1 \n",
    "a = 5.3\n",
    "\n",
    "print(a)\n",
    "\n",
    "# Strings --> using characters and symbols\n",
    "f = 'hello world'\n",
    "\n",
    "var = \"hello world!\"\n",
    "\n",
    "put = '$213 name !   +'\n",
    "\n",
    "print(f)\n",
    "print(var)\n",
    "print(put)\n"
   ]
  },
  {
   "cell_type": "code",
   "execution_count": 2,
   "metadata": {},
   "outputs": [
    {
     "name": "stdout",
     "output_type": "stream",
     "text": [
      "pizza!\n"
     ]
    }
   ],
   "source": [
    "put = \"pizza!\"\n",
    "print(put)\n",
    "\n",
    "pizza_3 = 'asdf'\n",
    "\n"
   ]
  },
  {
   "cell_type": "code",
   "execution_count": 3,
   "metadata": {
    "scrolled": true
   },
   "outputs": [
    {
     "name": "stdout",
     "output_type": "stream",
     "text": [
      "['apple', 'oranges', 'cucumbers']\n",
      "apple\n",
      "cucumbers\n",
      "['apple', 'oranges', 'cucumbers']\n",
      "['apple', 'oranges', 'cucumbers', 'onions']\n",
      "['apple', 'cucumbers', 'onions']\n",
      "\n",
      "Remaking the list\n",
      "['apple', 'oranges', 'cucumbers', 'onions']\n",
      "['apple', 'cucumbers', 'onions']\n",
      "['apple', 'cucumbers', 'tomatos']\n"
     ]
    }
   ],
   "source": [
    "# list uses brackets (square brackets) to hold a list of information\n",
    "\n",
    "my_list = ['apple', 'oranges', 'cucumbers']\n",
    "\n",
    "print(my_list)\n",
    "\n",
    "# important: python starts counting from 0\n",
    "\n",
    "#ie. indexing over a list\n",
    "# what is the first item in the list?\n",
    "print(my_list[0])\n",
    "\n",
    "# what is the third item in the list?\n",
    "print(my_list[2])\n",
    "\n",
    "print(my_list)\n",
    "\n",
    "\n",
    "# add onions to the list\n",
    "my_list.append('onions')\n",
    "print(my_list)\n",
    "\n",
    "# remove oranges by fruit name\n",
    "my_list.remove('oranges')\n",
    "print(my_list)\n",
    "\n",
    "# Remaking the list\n",
    "print('')\n",
    "print('Remaking the list')\n",
    "my_list = ['apple', 'oranges', 'cucumbers', 'onions']\n",
    "print(my_list)\n",
    "\n",
    "# remove oranges by it's index value\n",
    "del my_list[1]\n",
    "print(my_list)\n",
    "\n",
    "# replace onions with tomatos\n",
    "my_list[2] = 'tomatos'\n",
    "print(my_list)\n",
    "\n",
    "\n",
    "# look into concatenating\n",
    "    # --> combining lists\n",
    "    \n",
    "    \n",
    "    "
   ]
  },
  {
   "cell_type": "code",
   "execution_count": 4,
   "metadata": {},
   "outputs": [
    {
     "name": "stdout",
     "output_type": "stream",
     "text": [
      "(1, 4, 'five', '!_save')\n",
      "(1, 4, 'five', '!_save', 3)\n",
      "\n",
      "(1, 4, 'five', '!_save')\n",
      "(1, 4, 'five', '!_save', 3)\n"
     ]
    },
    {
     "data": {
      "text/plain": [
       "'!_save'"
      ]
     },
     "execution_count": 4,
     "metadata": {},
     "output_type": "execute_result"
    }
   ],
   "source": [
    "# tuples --> similiar to lists, uses parentheses ( round brackets )\n",
    "\n",
    "my_tuple = (1,4, 'five', '!_save')\n",
    "print(my_tuple)\n",
    "\n",
    "# add a value to a tuple\n",
    "    # no append option for tuples, append tuples\n",
    "print(my_tuple + (3,))\n",
    "print()\n",
    "print(my_tuple)\n",
    "# did not change the tuple, because tuples are immuatable\n",
    "    # cannot be changed\n",
    "\n",
    "# suppose you want to add values to a tuple permanently\n",
    "my_tuple = my_tuple + (3,)\n",
    "print(my_tuple)\n",
    "    \n",
    "# indexing tuples\n",
    "my_tuple[3]\n",
    "\n",
    "# update tuple value by index\n",
    "# my_tuple[3] = 10\n",
    "    # tuples are immutable, therefore values cannot be changed\n",
    "    "
   ]
  },
  {
   "cell_type": "code",
   "execution_count": 5,
   "metadata": {},
   "outputs": [
    {
     "data": {
      "text/plain": [
       "[1, 2, 10]"
      ]
     },
     "execution_count": 5,
     "metadata": {},
     "output_type": "execute_result"
    }
   ],
   "source": [
    "pen = [1,2,3]\n",
    "pen[2] = 10\n",
    "pen"
   ]
  },
  {
   "cell_type": "code",
   "execution_count": 6,
   "metadata": {},
   "outputs": [
    {
     "data": {
      "text/plain": [
       "(3, 4, 5)"
      ]
     },
     "execution_count": 6,
     "metadata": {},
     "output_type": "execute_result"
    }
   ],
   "source": [
    "pie = (3,4,5)\n",
    "# pie[2] = 10 \n",
    "pie\n",
    "# tuples cannot be changed"
   ]
  },
  {
   "cell_type": "code",
   "execution_count": 7,
   "metadata": {},
   "outputs": [
    {
     "data": {
      "text/plain": [
       "{1, 2, 3, 4, 5, 6}"
      ]
     },
     "execution_count": 7,
     "metadata": {},
     "output_type": "execute_result"
    }
   ],
   "source": [
    "# sets \n",
    "\n",
    "my_set = set([1,2,4,3,4,5,6,4])\n",
    "my_set"
   ]
  },
  {
   "cell_type": "code",
   "execution_count": 8,
   "metadata": {},
   "outputs": [
    {
     "name": "stdout",
     "output_type": "stream",
     "text": [
      "{'taran': [100, 90, 85, 'fifty'], 'ken': 85}\n",
      "[100, 90, 85, 'fifty', 93]\n",
      "{'taran': [100, 90, 85, 'fifty', 93], 'ken': 85, 'peter': [40, 37, 86, 90]}\n",
      "85\n"
     ]
    },
    {
     "data": {
      "text/plain": [
       "'avengers'"
      ]
     },
     "execution_count": 8,
     "metadata": {},
     "output_type": "execute_result"
    }
   ],
   "source": [
    "# Dictionaries --> uses curly brackets {} \n",
    "\n",
    "# my_dict = {keys:values}\n",
    "    # value can be of any data structure or data type\n",
    "\n",
    "my_dict = {'taran': [100, 90, 85,'fifty'], 'ken': 85}\n",
    "print(my_dict)\n",
    "\n",
    "my_dict['taran']\n",
    "my_dict['ken']\n",
    "\n",
    "# taran did another assignment and she got 93, add this mark to her list of marks\n",
    "my_dict['taran'].append(93)\n",
    "print(my_dict['taran'])\n",
    "\n",
    "# add a new student named peter with makes 40, 37, 86, 90\n",
    "my_dict['peter'] = [40, 37, 86, 90]\n",
    "print(my_dict)\n",
    "\n",
    "# how did taran do on the 3rd test\n",
    "print(my_dict['taran'][2])\n",
    "\n",
    "# dictionary in dictionary\n",
    "new_dict = {1: {'fruits':['apples','oranges'], 'veggies':['cucumbers', 'onions']},\n",
    "            \n",
    "            2: {'movies': ['avengers', 'life of pie'], 'snacks': 'popcorn'}\n",
    "           }\n",
    "\n",
    "new_dict[1]['fruits'][1]\n",
    "\n",
    "new_dict[2]['movies'][0]"
   ]
  },
  {
   "cell_type": "code",
   "execution_count": 9,
   "metadata": {},
   "outputs": [
    {
     "name": "stdout",
     "output_type": "stream",
     "text": [
      "the value of y is 7 and x is 10\n",
      "the value of y is 7 and x is 10\n"
     ]
    }
   ],
   "source": [
    "# conditional Logic\n",
    "\n",
    "x = 10\n",
    "\n",
    "\n",
    "if x == 3:\n",
    "    print('x is equals than 3')\n",
    "\n",
    "elif 1 < x < 3:\n",
    "    print('x is between 1 and 3')\n",
    "    \n",
    "elif x == 10:\n",
    "    y = 7\n",
    "    print('the value of y is {} and x is {}'.format(y, x))\n",
    "    print(f'the value of y is {y} and x is {x}')\n",
    "    \n",
    "# elif x < 1:\n",
    "#     print('outside range of 1 < x < 3')\n",
    "    \n",
    "# elif x > 3:\n",
    "#     print('outside range of 1 < x < 3')\n",
    "\n",
    "# we can simply this code by grouping the outcomes.\n",
    "\n",
    "else:\n",
    "    print('outside range of 1 < x < 3')\n",
    "    "
   ]
  },
  {
   "cell_type": "code",
   "execution_count": null,
   "metadata": {},
   "outputs": [],
   "source": []
  },
  {
   "cell_type": "code",
   "execution_count": 10,
   "metadata": {},
   "outputs": [
    {
     "name": "stdout",
     "output_type": "stream",
     "text": [
      "1\n",
      "2\n",
      "3\n",
      "4\n",
      "x > or = 5\n",
      "x > or = 5\n",
      "x > or = 5\n",
      "x > or = 5\n",
      "x > or = 5\n",
      "the final count is 4\n",
      "[0, 1, 2, 3, 4, 5, 6]\n",
      "7\n",
      "0 is even\n",
      "1 is odd\n",
      "2 is even\n",
      "3 is odd\n",
      "4 is even\n",
      "5 is odd\n",
      "6 is even\n"
     ]
    }
   ],
   "source": [
    "# loops\n",
    "x = [ 1,2,3,4,5,6,7,8,9]\n",
    "\n",
    "# for loops --> loops over each element in a list\n",
    "counter = 0\n",
    "\n",
    "for val in x:\n",
    "    if val < 5:\n",
    "        counter = counter + 1\n",
    "        print(counter)\n",
    "    else:\n",
    "        print('x > or = 5')\n",
    "        \n",
    "print('the final count is', counter)\n",
    "        \n",
    "\n",
    "# while loops --> loops over each element in a list or array given a condition\n",
    "\n",
    "apples = []\n",
    "i = 0 \n",
    "while i <= 6: # while conditon is true, then proceed\n",
    "    apples.append(i)\n",
    "    i = i + 1 \n",
    "print(apples)\n",
    "print(i)\n",
    "\n",
    "\n",
    "# while loop with conditions\n",
    "word = 'bahamas'\n",
    "len(word) # give the length of the string, we got 7\n",
    "\n",
    "i=0\n",
    "while i < len(word):\n",
    "    if i%2 == 0:\n",
    "        print(i, 'is even')\n",
    "    else:\n",
    "        print(i,'is odd')\n",
    "    i = i + 1 # same i += 1\n",
    "    "
   ]
  },
  {
   "cell_type": "code",
   "execution_count": 11,
   "metadata": {},
   "outputs": [
    {
     "name": "stdout",
     "output_type": "stream",
     "text": [
      "4\n",
      "0\n",
      "1.0\n",
      "6\n",
      "8\n",
      "3.333333333333333 is not the same as 2.0\n",
      "hooray\n",
      "hotdogs\n"
     ]
    }
   ],
   "source": [
    "# logic operators\n",
    "\n",
    "# modulo operator: gives you the remainder of a division operation\n",
    "3%2 # 3 ÷ 2 gives a remainder of 1\n",
    "\n",
    "5%3 # 5 ÷ 3 give a remainder of 2\n",
    "\n",
    "4%2 # 4 ÷ 2 gives a remainder of 0\n",
    "\n",
    "\n",
    "# addition \n",
    "print(2 + 2) \n",
    "\n",
    "# subtraction\n",
    "print(2 - 2) \n",
    "\n",
    "# division\n",
    "print(2 / 2) \n",
    "\n",
    "# multiplication \n",
    "print( 2*3)\n",
    "\n",
    "# exponential\n",
    "print( 2**3 )\n",
    "\n",
    "# brackets\n",
    "print( 2 + 4 / 3, 'is not the same as', (2+4)/3)\n",
    "# python follows pedmas == bedmas\n",
    "# parenthess, exponential, division, multiplication, additon, subtraction\n",
    "# python follows this order of logic operations\n",
    "\n",
    "# and --> both conditions must be true\n",
    "x,y,z = 1,2,3\n",
    "a,b,c = 1,4,3\n",
    "\n",
    "if a == x and z == c:\n",
    "    print('hooray')\n",
    "else:\n",
    "    print('nay')\n",
    "    \n",
    "# or --> at at least one must be true\n",
    "\n",
    "if y == a or y == b:\n",
    "    print('pizza')\n",
    "else:\n",
    "    print('hotdogs')"
   ]
  },
  {
   "cell_type": "code",
   "execution_count": 12,
   "metadata": {},
   "outputs": [],
   "source": [
    "# writing and opening files\n",
    "# hint\n",
    "# with open('input name.csv') as variable_name:\n",
    "#     etc....."
   ]
  },
  {
   "cell_type": "code",
   "execution_count": 13,
   "metadata": {},
   "outputs": [],
   "source": [
    "# Defining / creating Functions\n",
    "\n",
    "# Find the indexes of the numbers \n",
    "    # in the list that adds to the target\n",
    "num_list = [ 2, 51, 11, 7]\n",
    "\n",
    "target_num = 9\n",
    "# result = [0, 3]\n",
    "\n",
    "def two_sums(nums, target):\n",
    "    \n",
    "    for i_first, val in enumerate(nums):\n",
    "    # calculate the differenc\n",
    "        diff = target - val\n",
    "\n",
    "        # check if the difference is in the list\n",
    "        if diff in nums:\n",
    "\n",
    "            # if yes, find the index of the diff number\n",
    "            i_second = nums.index(diff)\n",
    "\n",
    "            # make sure the numbers arent adding themselves\n",
    "\n",
    "            if i_first != i_second:\n",
    "                \n",
    "\n",
    "                indexes = [i_first, i_second]\n",
    "\n",
    "                indexes.sort()\n",
    "                \n",
    "                return indexes\n"
   ]
  },
  {
   "cell_type": "code",
   "execution_count": 14,
   "metadata": {},
   "outputs": [
    {
     "data": {
      "text/plain": [
       "[0, 2]"
      ]
     },
     "execution_count": 14,
     "metadata": {},
     "output_type": "execute_result"
    }
   ],
   "source": [
    "numbers = [ 11, 6, 11, 7]\n",
    "\n",
    "target_num = 22\n",
    "\n",
    "two_sums(numbers, target_num)\n"
   ]
  },
  {
   "cell_type": "markdown",
   "metadata": {},
   "source": [
    "2 + 7 = 9 \n",
    "\n",
    "7 = 9- 2 "
   ]
  },
  {
   "cell_type": "markdown",
   "metadata": {},
   "source": [
    "f(x, y) = x + y + 1\n",
    "\n",
    "x = 2, y = 1\n",
    "\n",
    "f(2)= 2 + 1 + 1 \n",
    "f(2)= 4\n",
    "\n"
   ]
  },
  {
   "cell_type": "code",
   "execution_count": null,
   "metadata": {},
   "outputs": [],
   "source": []
  }
 ],
 "metadata": {
  "kernelspec": {
   "display_name": "Python 3",
   "language": "python",
   "name": "python3"
  },
  "language_info": {
   "codemirror_mode": {
    "name": "ipython",
    "version": 3
   },
   "file_extension": ".py",
   "mimetype": "text/x-python",
   "name": "python",
   "nbconvert_exporter": "python",
   "pygments_lexer": "ipython3",
   "version": "3.7.4"
  }
 },
 "nbformat": 4,
 "nbformat_minor": 2
}
